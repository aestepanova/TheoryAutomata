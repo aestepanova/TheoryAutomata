{
 "cells": [
  {
   "cell_type": "code",
   "execution_count": 1,
   "metadata": {},
   "outputs": [],
   "source": [
    "import numpy as np\n",
    "import pandas as pd\n",
    "import matplotlib.pyplot as plt\n",
    "%matplotlib inline"
   ]
  },
  {
   "cell_type": "code",
   "execution_count": 2,
   "metadata": {},
   "outputs": [],
   "source": [
    "import time"
   ]
  },
  {
   "cell_type": "code",
   "execution_count": 3,
   "metadata": {},
   "outputs": [],
   "source": [
    "from parsers import parserSMC, parserRegex, parserLeX"
   ]
  },
  {
   "cell_type": "code",
   "execution_count": 4,
   "metadata": {},
   "outputs": [],
   "source": [
    "from stringGenerator import generate"
   ]
  },
  {
   "cell_type": "code",
   "execution_count": 5,
   "metadata": {},
   "outputs": [],
   "source": [
    "data = [[], [], []]\n",
    "file_paths = []"
   ]
  },
  {
   "cell_type": "code",
   "execution_count": 6,
   "metadata": {
    "pycharm": {
     "is_executing": true,
     "name": "#%%\n"
    }
   },
   "outputs": [],
   "source": [
    "test_dir = \"./timing\"\n",
    "for i in range(0, 101, 50):\n",
    "    path = generate(test_dir, N=i, maxLen=100)\n",
    "    file_paths.append(path)"
   ]
  },
  {
   "cell_type": "code",
   "execution_count": 7,
   "metadata": {},
   "outputs": [],
   "source": [
    "for path in file_paths:\n",
    "    handler = open(path, 'r')\n",
    "    text = handler.read()\n",
    "    start = time.time_ns()\n",
    "    for s in text:\n",
    "        parser = parserSMC.lab1()\n",
    "        parser.CheckString(s)\n",
    "    end = time.time_ns()\n",
    "    data[0].append(end-start)\n",
    "\n",
    "    start = time.time_ns()\n",
    "    for s in text:\n",
    "        parser = parserRegex.Regex()\n",
    "        parser.CheckString(s)\n",
    "    end = time.time_ns()\n",
    "    data[1].append(end-start)\n",
    "    handler.close()\n",
    "\n",
    "    start = time.time_ns()\n",
    "    for s in text:\n",
    "        parser = parserLeX.ParserLeX()\n",
    "        parser.build()\n",
    "        parser.CheckString(s)\n",
    "    end = time.time_ns()\n",
    "    data[2].append(end-start)"
   ]
  },
  {
   "cell_type": "code",
   "execution_count": 8,
   "metadata": {},
   "outputs": [
    {
     "data": {
      "text/plain": [
       "[[0, 467788400, 624329100],\n",
       " [0, 209600000, 288368200],\n",
       " [0, 16279278400, 24478198100]]"
      ]
     },
     "execution_count": 8,
     "metadata": {},
     "output_type": "execute_result"
    }
   ],
   "source": [
    "indexes = [i for i in range(0, 101, 50)]\n",
    "data"
   ]
  },
  {
   "cell_type": "code",
   "execution_count": 9,
   "metadata": {},
   "outputs": [
    {
     "data": {
      "text/html": [
       "<div>\n",
       "<style scoped>\n",
       "    .dataframe tbody tr th:only-of-type {\n",
       "        vertical-align: middle;\n",
       "    }\n",
       "\n",
       "    .dataframe tbody tr th {\n",
       "        vertical-align: top;\n",
       "    }\n",
       "\n",
       "    .dataframe thead th {\n",
       "        text-align: right;\n",
       "    }\n",
       "</style>\n",
       "<table border=\"1\" class=\"dataframe\">\n",
       "  <thead>\n",
       "    <tr style=\"text-align: right;\">\n",
       "      <th></th>\n",
       "      <th>0</th>\n",
       "      <th>50</th>\n",
       "      <th>100</th>\n",
       "    </tr>\n",
       "  </thead>\n",
       "  <tbody>\n",
       "    <tr>\n",
       "      <th>smc</th>\n",
       "      <td>0</td>\n",
       "      <td>467788400</td>\n",
       "      <td>624329100</td>\n",
       "    </tr>\n",
       "    <tr>\n",
       "      <th>regex</th>\n",
       "      <td>0</td>\n",
       "      <td>209600000</td>\n",
       "      <td>288368200</td>\n",
       "    </tr>\n",
       "    <tr>\n",
       "      <th>lex</th>\n",
       "      <td>0</td>\n",
       "      <td>16279278400</td>\n",
       "      <td>24478198100</td>\n",
       "    </tr>\n",
       "  </tbody>\n",
       "</table>\n",
       "</div>"
      ],
      "text/plain": [
       "       0            50           100\n",
       "smc      0    467788400    624329100\n",
       "regex    0    209600000    288368200\n",
       "lex      0  16279278400  24478198100"
      ]
     },
     "execution_count": 9,
     "metadata": {},
     "output_type": "execute_result"
    }
   ],
   "source": [
    "df = pd.DataFrame(data, columns=indexes, index=['smc', 'regex', 'lex'])\n",
    "df"
   ]
  },
  {
   "cell_type": "code",
   "execution_count": 10,
   "metadata": {},
   "outputs": [],
   "source": [
    "data2 = [[], [], []]\n",
    "file_paths2 = []"
   ]
  },
  {
   "cell_type": "code",
   "execution_count": 11,
   "metadata": {},
   "outputs": [],
   "source": [
    "test_dir = \"./timing\"\n",
    "for i in range(10, 101, 10):\n",
    "    path = generate(test_dir, N=10, maxLen=i)\n",
    "    file_paths2.append(path)"
   ]
  },
  {
   "cell_type": "code",
   "execution_count": 12,
   "metadata": {},
   "outputs": [],
   "source": [
    "for path in file_paths2:\n",
    "    handler = open(path, 'r')\n",
    "    text = handler.read()\n",
    "    start = time.time_ns()\n",
    "    for s in text:\n",
    "        parser = parserSMC.lab1()\n",
    "        parser.CheckString(s)\n",
    "    end = time.time_ns()\n",
    "    data2[0].append(end-start)\n",
    "\n",
    "    start = time.time_ns()\n",
    "    for s in text:\n",
    "        parser = parserRegex.Regex()\n",
    "        parser.CheckString(s)\n",
    "    end = time.time_ns()\n",
    "    data2[1].append(end-start)\n",
    "    handler.close()\n",
    "\n",
    "    start = time.time_ns()\n",
    "    for s in text:\n",
    "        parser = parserLeX.ParserLeX()\n",
    "        parser.build()\n",
    "        parser.CheckString(s)\n",
    "    end = time.time_ns()\n",
    "    data2[2].append(end-start)"
   ]
  },
  {
   "cell_type": "code",
   "execution_count": 13,
   "metadata": {},
   "outputs": [
    {
     "data": {
      "text/plain": [
       "[[74847300,\n",
       "  113690500,\n",
       "  15959300,\n",
       "  37902400,\n",
       "  40948400,\n",
       "  99785200,\n",
       "  124662000,\n",
       "  116689500,\n",
       "  45921600,\n",
       "  52904900],\n",
       " [23935200,\n",
       "  55850400,\n",
       "  6981200,\n",
       "  16947800,\n",
       "  18936000,\n",
       "  45872000,\n",
       "  52858300,\n",
       "  54853200,\n",
       "  21942300,\n",
       "  23935700],\n",
       " [2140299000,\n",
       "  4523915200,\n",
       "  632308300,\n",
       "  1482038600,\n",
       "  1559978800,\n",
       "  3814793000,\n",
       "  3992379800,\n",
       "  4480421600,\n",
       "  1805607300,\n",
       "  2017745000]]"
      ]
     },
     "execution_count": 13,
     "metadata": {},
     "output_type": "execute_result"
    }
   ],
   "source": [
    "indexes = [i for i in range(10, 101, 10)]\n",
    "data2"
   ]
  },
  {
   "cell_type": "code",
   "execution_count": 14,
   "metadata": {},
   "outputs": [
    {
     "data": {
      "text/html": [
       "<div>\n",
       "<style scoped>\n",
       "    .dataframe tbody tr th:only-of-type {\n",
       "        vertical-align: middle;\n",
       "    }\n",
       "\n",
       "    .dataframe tbody tr th {\n",
       "        vertical-align: top;\n",
       "    }\n",
       "\n",
       "    .dataframe thead th {\n",
       "        text-align: right;\n",
       "    }\n",
       "</style>\n",
       "<table border=\"1\" class=\"dataframe\">\n",
       "  <thead>\n",
       "    <tr style=\"text-align: right;\">\n",
       "      <th></th>\n",
       "      <th>10</th>\n",
       "      <th>20</th>\n",
       "      <th>30</th>\n",
       "      <th>40</th>\n",
       "      <th>50</th>\n",
       "      <th>60</th>\n",
       "      <th>70</th>\n",
       "      <th>80</th>\n",
       "      <th>90</th>\n",
       "      <th>100</th>\n",
       "    </tr>\n",
       "  </thead>\n",
       "  <tbody>\n",
       "    <tr>\n",
       "      <th>smc</th>\n",
       "      <td>74847300</td>\n",
       "      <td>113690500</td>\n",
       "      <td>15959300</td>\n",
       "      <td>37902400</td>\n",
       "      <td>40948400</td>\n",
       "      <td>99785200</td>\n",
       "      <td>124662000</td>\n",
       "      <td>116689500</td>\n",
       "      <td>45921600</td>\n",
       "      <td>52904900</td>\n",
       "    </tr>\n",
       "    <tr>\n",
       "      <th>regex</th>\n",
       "      <td>23935200</td>\n",
       "      <td>55850400</td>\n",
       "      <td>6981200</td>\n",
       "      <td>16947800</td>\n",
       "      <td>18936000</td>\n",
       "      <td>45872000</td>\n",
       "      <td>52858300</td>\n",
       "      <td>54853200</td>\n",
       "      <td>21942300</td>\n",
       "      <td>23935700</td>\n",
       "    </tr>\n",
       "    <tr>\n",
       "      <th>lex</th>\n",
       "      <td>2140299000</td>\n",
       "      <td>4523915200</td>\n",
       "      <td>632308300</td>\n",
       "      <td>1482038600</td>\n",
       "      <td>1559978800</td>\n",
       "      <td>3814793000</td>\n",
       "      <td>3992379800</td>\n",
       "      <td>4480421600</td>\n",
       "      <td>1805607300</td>\n",
       "      <td>2017745000</td>\n",
       "    </tr>\n",
       "  </tbody>\n",
       "</table>\n",
       "</div>"
      ],
      "text/plain": [
       "              10          20         30          40          50          60   \\\n",
       "smc      74847300   113690500   15959300    37902400    40948400    99785200   \n",
       "regex    23935200    55850400    6981200    16947800    18936000    45872000   \n",
       "lex    2140299000  4523915200  632308300  1482038600  1559978800  3814793000   \n",
       "\n",
       "              70          80          90          100  \n",
       "smc     124662000   116689500    45921600    52904900  \n",
       "regex    52858300    54853200    21942300    23935700  \n",
       "lex    3992379800  4480421600  1805607300  2017745000  "
      ]
     },
     "execution_count": 14,
     "metadata": {},
     "output_type": "execute_result"
    }
   ],
   "source": [
    "df2 = pd.DataFrame(data2, columns=indexes, index=['smc', 'regex', 'lex'])\n",
    "df2"
   ]
  },
  {
   "cell_type": "code",
   "execution_count": null,
   "metadata": {},
   "outputs": [],
   "source": []
  }
 ],
 "metadata": {
  "kernelspec": {
   "display_name": "Python 3 (ipykernel)",
   "language": "python",
   "name": "python3"
  },
  "language_info": {
   "codemirror_mode": {
    "name": "ipython",
    "version": 3
   },
   "file_extension": ".py",
   "mimetype": "text/x-python",
   "name": "python",
   "nbconvert_exporter": "python",
   "pygments_lexer": "ipython3",
   "version": "3.8.6"
  }
 },
 "nbformat": 4,
 "nbformat_minor": 1
}
